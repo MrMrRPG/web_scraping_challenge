{
 "cells": [
  {
   "cell_type": "code",
   "execution_count": 1,
   "source": [
    "# Dependencies\r\n",
    "import os\r\n",
    "from splinter import Browser\r\n",
    "from bs4 import BeautifulSoup\r\n",
    "from webdriver_manager.chrome import ChromeDriverManager\r\n",
    "import requests\r\n",
    "import pymongo"
   ],
   "outputs": [],
   "metadata": {}
  },
  {
   "cell_type": "code",
   "execution_count": 2,
   "source": [
    "# Activating ChromeDriverManager\r\n",
    "executable_path = {'executable_path': ChromeDriverManager().install()}\r\n",
    "browser = Browser('chrome', **executable_path, headless=False)"
   ],
   "outputs": [
    {
     "output_type": "stream",
     "name": "stderr",
     "text": [
      "\n",
      "\n",
      "====== WebDriver manager ======\n",
      "Current google-chrome version is 93.0.4577\n",
      "Get LATEST driver version for 93.0.4577\n",
      "Get LATEST driver version for 93.0.4577\n",
      "Trying to download new driver from https://chromedriver.storage.googleapis.com/93.0.4577.15/chromedriver_win32.zip\n",
      "Driver has been saved in cache [C:\\Users\\nng59\\.wdm\\drivers\\chromedriver\\win32\\93.0.4577.15]\n"
     ]
    }
   ],
   "metadata": {}
  },
  {
   "cell_type": "code",
   "execution_count": 3,
   "source": [
    "# Visiting the website\r\n",
    "url = 'https://redplanetscience.com/'\r\n",
    "\r\n",
    "# response = requests.get(url)\r\n",
    "browser.visit(url)"
   ],
   "outputs": [],
   "metadata": {}
  },
  {
   "cell_type": "code",
   "execution_count": 4,
   "source": [
    "for x in range(1):\r\n",
    "\t# Parent div for article title and teaser paragraph\r\n",
    "\thtml = browser.html\r\n",
    "\tsoup = BeautifulSoup(html, 'html.parser')\r\n",
    "\tresults = soup.find_all('div', class_='col-md-8')\r\n",
    "\r\n",
    "\t# scrape loop\r\n",
    "\tfor result in results:\r\n",
    "\r\n",
    "\t\t# Definitions\r\n",
    "\t\tnews_title = result.find('div', class_='content_title').text.strip()\r\n",
    "\t\tnews_p = result.find('div', class_='article_teaser_body').text.strip()\r\n",
    "\r\n",
    "\t\t# Prints\r\n",
    "\t\tprint('---------------------------------')\r\n",
    "\t\tprint(news_title)\r\n",
    "\t\tprint(news_p)\r\n"
   ],
   "outputs": [
    {
     "output_type": "stream",
     "name": "stdout",
     "text": [
      "---------------------------------\n",
      "MOXIE Could Help Future Rockets Launch Off Mars\n",
      "NASA's Perseverance rover carries a device to convert Martian air into oxygen that, if produced on a larger scale, could be used not just for breathing, but also for fuel.\n",
      "---------------------------------\n",
      "Q&A with the Student Who Named Ingenuity, NASA's Mars Helicopter\n",
      "As a longtime fan of space exploration, Vaneeza Rupani appreciates the creativity and collaboration involved with trying to fly on another planet.\n",
      "---------------------------------\n",
      "8 Martian Postcards to Celebrate Curiosity's Landing Anniversary\n",
      "The NASA rover touched down eight years ago, on Aug. 5, 2012, and will soon be joined by a second rover, Perseverance.\n",
      "---------------------------------\n",
      "NASA to Broadcast Mars 2020 Perseverance Launch, Prelaunch Activities\n",
      "Starting July 27, news activities will cover everything from mission engineering and science to returning samples from Mars to, of course, the launch itself.\n",
      "---------------------------------\n",
      "Global Storms on Mars Launch Dust Towers Into the Sky\n",
      "A Mars Dust Tower Stands Out Dust storms are common on Mars. But every decade or so, something unpredictable happens: a series of runaway storms break out, covering the entire planet in a dusty haze.\n",
      "---------------------------------\n",
      "NASA to Reveal Name of Its Next Mars Rover\n",
      "After a months-long contest among students to name NASA's newest Mars rover, the agency will reveal the winning name — and the winning student — this Thursday.\n",
      "---------------------------------\n",
      "While Stargazing on Mars, NASA's Curiosity Rover Spots Earth and Venus\n",
      "This new portrait of the Red Planet's neighbors was taken during a time when there's more dust in the air on Mars.\n",
      "---------------------------------\n",
      "New Selfie Shows Curiosity, the Mars Chemist\n",
      "The NASA rover performed a special chemistry experiment at the location captured in its newest self-portrait.\n",
      "---------------------------------\n",
      "Nine Finalists Chosen in NASA's Mars 2020 Rover Naming Contest\n",
      "Nine finalists have been chosen in the essay contest for K-12 students across U.S. to name NASA's next Mars rover. Now you can help by voting for your favorite.\n",
      "---------------------------------\n",
      "NASA's Perseverance Rover Attached to Atlas V Rocket\n",
      "Ready for its launch later in the month, the Mars-bound rover will touch terra firma no more.\n",
      "---------------------------------\n",
      "How NASA's Mars Helicopter Will Reach the Red Planet's Surface\n",
      "The small craft will seek to prove that powered, controlled flight is possible on another planet. But just getting it onto the surface of Mars will take a whole lot of ingenuity.\n",
      "---------------------------------\n",
      "Screening Soon: 'The Pathfinders' Trains Lens on Mars\n",
      "With the Mars 2020 mission ramping up, the documentary — the first of four about past JPL missions to the Red Planet to be shown at Caltech — tells a gripping backstory.\n",
      "---------------------------------\n",
      "The Detective Aboard NASA's Perseverance Rover\n",
      "An instrument called SHERLOC will, with the help of its partner WATSON, hunt for signs of ancient life by detecting organic molecules and minerals.\n",
      "---------------------------------\n",
      "NASA InSight's 'Mole' Is Out of Sight\n",
      "Now that the heat probe is just below the Martian surface, InSight's arm will scoop some additional soil on top to help it keep digging so it can take Mars' temperature.\n",
      "---------------------------------\n",
      "NASA's Curiosity Takes Selfie With 'Mary Anning' on the Red Planet\n",
      "The Mars rover has drilled three samples of rock in this clay-enriched region since arriving in July.\n"
     ]
    }
   ],
   "metadata": {}
  },
  {
   "cell_type": "code",
   "execution_count": 5,
   "source": [
    "browser.quit()"
   ],
   "outputs": [],
   "metadata": {}
  }
 ],
 "metadata": {
  "orig_nbformat": 4,
  "language_info": {
   "name": "python",
   "version": "3.8.5",
   "mimetype": "text/x-python",
   "codemirror_mode": {
    "name": "ipython",
    "version": 3
   },
   "pygments_lexer": "ipython3",
   "nbconvert_exporter": "python",
   "file_extension": ".py"
  },
  "kernelspec": {
   "name": "python3",
   "display_name": "Python 3.8.5 64-bit ('base': conda)"
  },
  "interpreter": {
   "hash": "afae373feb22720441ef4b0afdb2fe79a8e93aec5e400fe4bc616a2eee5ab87c"
  }
 },
 "nbformat": 4,
 "nbformat_minor": 2
}