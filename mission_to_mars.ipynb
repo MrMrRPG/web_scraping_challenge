{
 "cells": [
  {
   "cell_type": "code",
   "execution_count": null,
   "metadata": {},
   "outputs": [],
   "source": [
    "# Dependencies\n",
    "import os\n",
    "from splinter import Browser\n",
    "from bs4 import BeautifulSoup\n",
    "from webdriver_manager.chrome import ChromeDriverManager\n",
    "import requests\n",
    "import pandas as pd\n",
    "import pymongo"
   ]
  },
  {
   "cell_type": "code",
   "execution_count": null,
   "metadata": {},
   "outputs": [],
   "source": [
    "# Activating ChromeDriverManager\n",
    "executable_path = {'executable_path': ChromeDriverManager().install()}\n",
    "browser = Browser('chrome', **executable_path, headless=False)"
   ]
  },
  {
   "cell_type": "markdown",
   "metadata": {},
   "source": [
    "## Mars News Titles"
   ]
  },
  {
   "cell_type": "code",
   "execution_count": null,
   "metadata": {},
   "outputs": [],
   "source": [
    "# Visiting the website\n",
    "redplanetscience = 'https://redplanetscience.com/'\n",
    "\n",
    "# response = requests.get(redplanetscience)\n",
    "browser.visit(redplanetscience)"
   ]
  },
  {
   "cell_type": "code",
   "execution_count": null,
   "metadata": {},
   "outputs": [],
   "source": [
    "for x in range(1):\n",
    "\t# Definitions\n",
    "\thtml = browser.html\n",
    "\tsoup = BeautifulSoup(html, 'html.parser')\n",
    "\tresults = soup.find_all('div', class_='col-md-8')\n",
    "\n",
    "\t# scrape loop\n",
    "\tfor result in results:\n",
    "\n",
    "\t\t# Parent div for article title and teaser paragraph\n",
    "\t\tnews_title = result.find('div', class_='content_title').text.strip()\n",
    "\t\tnews_p = result.find('div', class_='article_teaser_body').text.strip()\n",
    "\n",
    "\t\t# Prints\n",
    "\t\tprint('---------------------------------')\n",
    "\t\tprint(news_title)\n",
    "\t\tprint(news_p)\n"
   ]
  },
  {
   "cell_type": "markdown",
   "metadata": {},
   "source": [
    "## JPL Mars Space Images - Featured Image"
   ]
  },
  {
   "cell_type": "code",
   "execution_count": null,
   "metadata": {},
   "outputs": [],
   "source": [
    "spaceimages = 'http://spaceimages-mars.com/'\n",
    "browser.visit(spaceimages)"
   ]
  },
  {
   "cell_type": "code",
   "execution_count": null,
   "metadata": {},
   "outputs": [],
   "source": [
    "for x in range(1):\n",
    "\t# Definitions\n",
    "\thtml = browser.html\n",
    "\tsoup = BeautifulSoup(html, 'html.parser')\n",
    "\tresults = soup.find_all('div', class_='floating_text_area')\n",
    "\n",
    "\t# scrape loop\n",
    "\tfor result in results:\n",
    "\n",
    "\t\t# Find featured image\n",
    "\t\ta = result.find('a')\n",
    "\t\thref = a['href']\n",
    "\n",
    "\t\t# Prints\n",
    "\t\tprint('---------------------------------')\n",
    "\t\tprint(f\"Link to Featured Space Image: {spaceimages}{href}\")\n",
    "\n",
    "featured_image_url = spaceimages + href\n"
   ]
  },
  {
   "cell_type": "markdown",
   "metadata": {},
   "source": [
    "## Mars Facts"
   ]
  },
  {
   "cell_type": "code",
   "execution_count": null,
   "metadata": {},
   "outputs": [],
   "source": [
    "galaxyfacts_mars = 'https://galaxyfacts-mars.com/'"
   ]
  },
  {
   "cell_type": "code",
   "execution_count": null,
   "metadata": {},
   "outputs": [],
   "source": [
    "mars_tables = pd.read_html(galaxyfacts_mars)\n",
    "mars_tables"
   ]
  },
  {
   "cell_type": "code",
   "execution_count": null,
   "metadata": {},
   "outputs": [],
   "source": [
    "mars_fact_table = mars_tables[1]\n",
    "mars_fact_table"
   ]
  },
  {
   "cell_type": "markdown",
   "metadata": {},
   "source": [
    "## Mars Hemispheres"
   ]
  },
  {
   "cell_type": "code",
   "execution_count": null,
   "metadata": {},
   "outputs": [],
   "source": [
    "marshemispheres = 'http://marshemispheres.com/'\n",
    "browser.visit(marshemispheres)"
   ]
  },
  {
   "cell_type": "code",
   "execution_count": null,
   "metadata": {},
   "outputs": [],
   "source": [
    "for x in range(1):\n",
    "    # Definitions\n",
    "    html = browser.html\n",
    "    soup = BeautifulSoup(html, 'html.parser')\n",
    "    results = soup.find_all('div', class_='item')\n",
    "\n",
    "    hemisphere_list = []\n",
    "    img_url_list = []\n",
    "    hemisphere_img_dict =[] \n",
    "\n",
    "    # scrape loop\n",
    "    for result in results:\n",
    "\n",
    "        # Find featured image and URL\n",
    "        hem=result.find('div',class_='description')\n",
    "        title=hem.h3.text\n",
    "        a = result.find('a')\n",
    "        href = a['href']\n",
    "        img = a.find('img')\n",
    "        src = img['src']\n",
    "        alt = img['alt']\n",
    "\n",
    "        # Getting rid of unwanted words in the statement\n",
    "        word_list = [\"Enhanced\", \"  \"]\n",
    "\n",
    "        for word in word_list:\n",
    "            hemisphere = title.replace(word, \"\") \n",
    "             \n",
    "        img_url = marshemispheres + src\n",
    "\n",
    "        # Prints\n",
    "        print('---------------------------------')\n",
    "        # print('alt')\n",
    "        print(f\"{hemisphere}:\")\n",
    "        print(f\"{img_url}\")\n",
    "\n",
    "        # Dictionary appends\n",
    "        dict={'title':hemisphere,'image_url':img_url}\n",
    "        hemisphere_img_dict.append(dict)"
   ]
  },
  {
   "cell_type": "code",
   "execution_count": null,
   "metadata": {},
   "outputs": [],
   "source": [
    "hemisphere_img_dict"
   ]
  },
  {
   "cell_type": "code",
   "execution_count": null,
   "metadata": {},
   "outputs": [],
   "source": [
    "browser.quit()"
   ]
  }
 ],
 "metadata": {
  "interpreter": {
   "hash": "afae373feb22720441ef4b0afdb2fe79a8e93aec5e400fe4bc616a2eee5ab87c"
  },
  "kernelspec": {
   "display_name": "Python 3",
   "language": "python",
   "name": "python3"
  },
  "language_info": {
   "codemirror_mode": {
    "name": "ipython",
    "version": 3
   },
   "file_extension": ".py",
   "mimetype": "text/x-python",
   "name": "python",
   "nbconvert_exporter": "python",
   "pygments_lexer": "ipython3",
   "version": "3.8.5"
  }
 },
 "nbformat": 4,
 "nbformat_minor": 2
}
