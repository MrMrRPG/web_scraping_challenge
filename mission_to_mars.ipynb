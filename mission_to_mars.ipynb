{
 "cells": [
  {
   "cell_type": "code",
   "execution_count": 1,
   "source": [
    "# Dependencies\r\n",
    "import os\r\n",
    "from splinter import Browser\r\n",
    "from bs4 import BeautifulSoup\r\n",
    "from webdriver_manager.chrome import ChromeDriverManager\r\n",
    "import requests\r\n",
    "import pandas as pd\r\n",
    "import pymongo"
   ],
   "outputs": [],
   "metadata": {}
  },
  {
   "cell_type": "code",
   "execution_count": 2,
   "source": [
    "# Activating ChromeDriverManager\r\n",
    "executable_path = {'executable_path': ChromeDriverManager().install()}\r\n",
    "browser = Browser('chrome', **executable_path, headless=False)"
   ],
   "outputs": [
    {
     "output_type": "stream",
     "name": "stderr",
     "text": [
      "\n",
      "\n",
      "====== WebDriver manager ======\n",
      "Current google-chrome version is 93.0.4577\n",
      "Get LATEST driver version for 93.0.4577\n",
      "Driver [C:\\Users\\nng59\\.wdm\\drivers\\chromedriver\\win32\\93.0.4577.15\\chromedriver.exe] found in cache\n"
     ]
    }
   ],
   "metadata": {}
  },
  {
   "cell_type": "markdown",
   "source": [
    "## Mars News Titles"
   ],
   "metadata": {}
  },
  {
   "cell_type": "code",
   "execution_count": 3,
   "source": [
    "# Visiting the website\r\n",
    "redplanetscience = 'https://redplanetscience.com/'\r\n",
    "\r\n",
    "# response = requests.get(redplanetscience)\r\n",
    "browser.visit(redplanetscience)"
   ],
   "outputs": [],
   "metadata": {}
  },
  {
   "cell_type": "code",
   "execution_count": 4,
   "source": [
    "for x in range(1):\r\n",
    "\t# Definitions\r\n",
    "\thtml = browser.html\r\n",
    "\tsoup = BeautifulSoup(html, 'html.parser')\r\n",
    "\tresults = soup.find_all('div', class_='col-md-8')\r\n",
    "\r\n",
    "\t# scrape loop\r\n",
    "\t# for result in results:\r\n",
    "\r\n",
    "\t# Parent div for article title and teaser paragraph\r\n",
    "\tnews_title = soup.find_all('div', class_='content_title')[0].text\r\n",
    "\tnews_p = soup.find_all('div', class_='article_teaser_body')[0].text\r\n",
    "\r\n",
    "\t# Prints\r\n",
    "\tprint('---------------------------------')\r\n",
    "\tprint(news_title)\r\n",
    "\tprint(news_p)\r\n"
   ],
   "outputs": [
    {
     "output_type": "stream",
     "name": "stdout",
     "text": [
      "---------------------------------\n",
      "The Detective Aboard NASA's Perseverance Rover\n",
      "An instrument called SHERLOC will, with the help of its partner WATSON, hunt for signs of ancient life by detecting organic molecules and minerals.\n"
     ]
    }
   ],
   "metadata": {}
  },
  {
   "cell_type": "markdown",
   "source": [
    "## JPL Mars Space Images - Featured Image"
   ],
   "metadata": {}
  },
  {
   "cell_type": "code",
   "execution_count": 5,
   "source": [
    "spaceimages = 'http://spaceimages-mars.com/'\r\n",
    "browser.visit(spaceimages)"
   ],
   "outputs": [],
   "metadata": {}
  },
  {
   "cell_type": "code",
   "execution_count": 6,
   "source": [
    "for x in range(1):\r\n",
    "\t# Definitions\r\n",
    "\thtml = browser.html\r\n",
    "\tsoup = BeautifulSoup(html, 'html.parser')\r\n",
    "\tresults = soup.find_all('div', class_='floating_text_area')\r\n",
    "\r\n",
    "\t# scrape loop\r\n",
    "\tfor result in results:\r\n",
    "\r\n",
    "\t\t# Find featured image\r\n",
    "\t\ta = result.find('a')\r\n",
    "\t\thref = a['href']\r\n",
    "\r\n",
    "\t\t# Prints\r\n",
    "\t\tprint('---------------------------------')\r\n",
    "\t\tprint(f\"Link to Featured Space Image: {spaceimages}{href}\")\r\n",
    "\r\n",
    "featured_image_url = spaceimages + href\r\n"
   ],
   "outputs": [
    {
     "output_type": "stream",
     "name": "stdout",
     "text": [
      "---------------------------------\n",
      "Link to Featured Space Image: http://spaceimages-mars.com/image/featured/mars3.jpg\n"
     ]
    }
   ],
   "metadata": {}
  },
  {
   "cell_type": "markdown",
   "source": [
    "## Mars Facts"
   ],
   "metadata": {}
  },
  {
   "cell_type": "code",
   "execution_count": 7,
   "source": [
    "galaxyfacts_mars = 'https://galaxyfacts-mars.com/'"
   ],
   "outputs": [],
   "metadata": {}
  },
  {
   "cell_type": "code",
   "execution_count": 8,
   "source": [
    "mars_tables = pd.read_html(galaxyfacts_mars)\r\n",
    "mars_tables"
   ],
   "outputs": [
    {
     "output_type": "execute_result",
     "data": {
      "text/plain": [
       "[                         0                1                2\n",
       " 0  Mars - Earth Comparison             Mars            Earth\n",
       " 1                Diameter:         6,779 km        12,742 km\n",
       " 2                    Mass:  6.39 × 10^23 kg  5.97 × 10^24 kg\n",
       " 3                   Moons:                2                1\n",
       " 4       Distance from Sun:   227,943,824 km   149,598,262 km\n",
       " 5          Length of Year:   687 Earth days      365.24 days\n",
       " 6             Temperature:     -87 to -5 °C      -88 to 58°C,\n",
       "                       0                              1\n",
       " 0  Equatorial Diameter:                       6,792 km\n",
       " 1       Polar Diameter:                       6,752 km\n",
       " 2                 Mass:  6.39 × 10^23 kg (0.11 Earths)\n",
       " 3                Moons:          2 ( Phobos & Deimos )\n",
       " 4       Orbit Distance:       227,943,824 km (1.38 AU)\n",
       " 5         Orbit Period:           687 days (1.9 years)\n",
       " 6  Surface Temperature:                   -87 to -5 °C\n",
       " 7         First Record:              2nd millennium BC\n",
       " 8          Recorded By:           Egyptian astronomers]"
      ]
     },
     "metadata": {},
     "execution_count": 8
    }
   ],
   "metadata": {}
  },
  {
   "cell_type": "code",
   "execution_count": 9,
   "source": [
    "mars_table = mars_tables[1].rename(columns={0:'Description', 1:'Mars'})"
   ],
   "outputs": [],
   "metadata": {}
  },
  {
   "cell_type": "code",
   "execution_count": 10,
   "source": [
    "mars_fact_table = mars_table.to_html()\r\n",
    "mars_fact_table = mars_fact_table.replace('\\n', '')\r\n",
    "# mars_fact_df = mars_fact_table.to_html('table.html')\r\n",
    "# mars_fact_df\r\n",
    "mars_fact_table"
   ],
   "outputs": [
    {
     "output_type": "execute_result",
     "data": {
      "text/plain": [
       "'<table border=\"1\" class=\"dataframe\">  <thead>    <tr style=\"text-align: right;\">      <th></th>      <th>Description</th>      <th>Mars</th>    </tr>  </thead>  <tbody>    <tr>      <th>0</th>      <td>Equatorial Diameter:</td>      <td>6,792 km</td>    </tr>    <tr>      <th>1</th>      <td>Polar Diameter:</td>      <td>6,752 km</td>    </tr>    <tr>      <th>2</th>      <td>Mass:</td>      <td>6.39 × 10^23 kg (0.11 Earths)</td>    </tr>    <tr>      <th>3</th>      <td>Moons:</td>      <td>2 ( Phobos &amp; Deimos )</td>    </tr>    <tr>      <th>4</th>      <td>Orbit Distance:</td>      <td>227,943,824 km (1.38 AU)</td>    </tr>    <tr>      <th>5</th>      <td>Orbit Period:</td>      <td>687 days (1.9 years)</td>    </tr>    <tr>      <th>6</th>      <td>Surface Temperature:</td>      <td>-87 to -5 °C</td>    </tr>    <tr>      <th>7</th>      <td>First Record:</td>      <td>2nd millennium BC</td>    </tr>    <tr>      <th>8</th>      <td>Recorded By:</td>      <td>Egyptian astronomers</td>    </tr>  </tbody></table>'"
      ]
     },
     "metadata": {},
     "execution_count": 10
    }
   ],
   "metadata": {}
  },
  {
   "cell_type": "markdown",
   "source": [
    "## Mars Hemispheres"
   ],
   "metadata": {}
  },
  {
   "cell_type": "code",
   "execution_count": 11,
   "source": [
    "marshemispheres = 'http://marshemispheres.com/'\r\n",
    "browser.visit(marshemispheres)"
   ],
   "outputs": [],
   "metadata": {}
  },
  {
   "cell_type": "code",
   "execution_count": 12,
   "source": [
    "for x in range(1):\r\n",
    "    # Definitions\r\n",
    "    html = browser.html\r\n",
    "    soup = BeautifulSoup(html, 'html.parser')\r\n",
    "    results = soup.find_all('div', class_='item')\r\n",
    "\r\n",
    "    hemisphere_list = []\r\n",
    "    img_url_list = []\r\n",
    "    hemisphere_img_dict =[] \r\n",
    "\r\n",
    "    # scrape loop\r\n",
    "    for result in results:\r\n",
    "\r\n",
    "        # Find featured image and URL\r\n",
    "        hem=result.find('div',class_='description')\r\n",
    "        title=hem.h3.text\r\n",
    "        a = result.find('a')\r\n",
    "        href = a['href']\r\n",
    "        img = a.find('img')\r\n",
    "        src = img['src']\r\n",
    "        alt = img['alt']\r\n",
    "\r\n",
    "        # Getting rid of unwanted words in the statement\r\n",
    "        word_list = [\"Enhanced\", \"  \"]\r\n",
    "\r\n",
    "        for word in word_list:\r\n",
    "            hemisphere = title.replace(word, \"\") \r\n",
    "             \r\n",
    "        img_url = marshemispheres + src\r\n",
    "\r\n",
    "        # Prints\r\n",
    "        print('---------------------------------')\r\n",
    "        # print('alt')\r\n",
    "        print(f\"{hemisphere}:\")\r\n",
    "        print(f\"{img_url}\")\r\n",
    "\r\n",
    "        # Dictionary appends\r\n",
    "        dict={'title':hemisphere,'image_url':img_url}\r\n",
    "        hemisphere_img_dict.append(dict)"
   ],
   "outputs": [
    {
     "output_type": "stream",
     "name": "stdout",
     "text": [
      "---------------------------------\n",
      "Cerberus Hemisphere Enhanced:\n",
      "http://marshemispheres.com/images/39d3266553462198bd2fbc4d18fbed17_cerberus_enhanced.tif_thumb.png\n",
      "---------------------------------\n",
      "Schiaparelli Hemisphere Enhanced:\n",
      "http://marshemispheres.com/images/08eac6e22c07fb1fe72223a79252de20_schiaparelli_enhanced.tif_thumb.png\n",
      "---------------------------------\n",
      "Syrtis Major Hemisphere Enhanced:\n",
      "http://marshemispheres.com/images/55a0a1e2796313fdeafb17c35925e8ac_syrtis_major_enhanced.tif_thumb.png\n",
      "---------------------------------\n",
      "Valles Marineris Hemisphere Enhanced:\n",
      "http://marshemispheres.com/images/4e59980c1c57f89c680c0e1ccabbeff1_valles_marineris_enhanced.tif_thumb.png\n"
     ]
    }
   ],
   "metadata": {}
  },
  {
   "cell_type": "code",
   "execution_count": 13,
   "source": [
    "hemisphere_img_dict"
   ],
   "outputs": [
    {
     "output_type": "execute_result",
     "data": {
      "text/plain": [
       "[{'title': 'Cerberus Hemisphere Enhanced',\n",
       "  'image_url': 'http://marshemispheres.com/images/39d3266553462198bd2fbc4d18fbed17_cerberus_enhanced.tif_thumb.png'},\n",
       " {'title': 'Schiaparelli Hemisphere Enhanced',\n",
       "  'image_url': 'http://marshemispheres.com/images/08eac6e22c07fb1fe72223a79252de20_schiaparelli_enhanced.tif_thumb.png'},\n",
       " {'title': 'Syrtis Major Hemisphere Enhanced',\n",
       "  'image_url': 'http://marshemispheres.com/images/55a0a1e2796313fdeafb17c35925e8ac_syrtis_major_enhanced.tif_thumb.png'},\n",
       " {'title': 'Valles Marineris Hemisphere Enhanced',\n",
       "  'image_url': 'http://marshemispheres.com/images/4e59980c1c57f89c680c0e1ccabbeff1_valles_marineris_enhanced.tif_thumb.png'}]"
      ]
     },
     "metadata": {},
     "execution_count": 13
    }
   ],
   "metadata": {}
  },
  {
   "cell_type": "code",
   "execution_count": 14,
   "source": [
    "mars_dict = {\"headline\": news_title,\r\n",
    "\t\"paragraph\": news_p,\r\n",
    "\t\"featured_image_url\": featured_image_url,\r\n",
    "\t\"mars_fact_table\": mars_fact_table,\r\n",
    "\t\"mars_hemispheres\": hemisphere_img_dict\r\n",
    "\t}\r\n",
    "\r\n",
    "mars_dict['headline']"
   ],
   "outputs": [
    {
     "output_type": "execute_result",
     "data": {
      "text/plain": [
       "{'headline': \"The Detective Aboard NASA's Perseverance Rover\",\n",
       " 'paragraph': 'An instrument called SHERLOC will, with the help of its partner WATSON, hunt for signs of ancient life by detecting organic molecules and minerals.',\n",
       " 'featured_image_url': 'http://spaceimages-mars.com/image/featured/mars3.jpg',\n",
       " 'mars_fact_table': '<table border=\"1\" class=\"dataframe\">  <thead>    <tr style=\"text-align: right;\">      <th></th>      <th>Description</th>      <th>Mars</th>    </tr>  </thead>  <tbody>    <tr>      <th>0</th>      <td>Equatorial Diameter:</td>      <td>6,792 km</td>    </tr>    <tr>      <th>1</th>      <td>Polar Diameter:</td>      <td>6,752 km</td>    </tr>    <tr>      <th>2</th>      <td>Mass:</td>      <td>6.39 × 10^23 kg (0.11 Earths)</td>    </tr>    <tr>      <th>3</th>      <td>Moons:</td>      <td>2 ( Phobos &amp; Deimos )</td>    </tr>    <tr>      <th>4</th>      <td>Orbit Distance:</td>      <td>227,943,824 km (1.38 AU)</td>    </tr>    <tr>      <th>5</th>      <td>Orbit Period:</td>      <td>687 days (1.9 years)</td>    </tr>    <tr>      <th>6</th>      <td>Surface Temperature:</td>      <td>-87 to -5 °C</td>    </tr>    <tr>      <th>7</th>      <td>First Record:</td>      <td>2nd millennium BC</td>    </tr>    <tr>      <th>8</th>      <td>Recorded By:</td>      <td>Egyptian astronomers</td>    </tr>  </tbody></table>',\n",
       " 'mars_hemispheres': [{'title': 'Cerberus Hemisphere Enhanced',\n",
       "   'image_url': 'http://marshemispheres.com/images/39d3266553462198bd2fbc4d18fbed17_cerberus_enhanced.tif_thumb.png'},\n",
       "  {'title': 'Schiaparelli Hemisphere Enhanced',\n",
       "   'image_url': 'http://marshemispheres.com/images/08eac6e22c07fb1fe72223a79252de20_schiaparelli_enhanced.tif_thumb.png'},\n",
       "  {'title': 'Syrtis Major Hemisphere Enhanced',\n",
       "   'image_url': 'http://marshemispheres.com/images/55a0a1e2796313fdeafb17c35925e8ac_syrtis_major_enhanced.tif_thumb.png'},\n",
       "  {'title': 'Valles Marineris Hemisphere Enhanced',\n",
       "   'image_url': 'http://marshemispheres.com/images/4e59980c1c57f89c680c0e1ccabbeff1_valles_marineris_enhanced.tif_thumb.png'}]}"
      ]
     },
     "metadata": {},
     "execution_count": 14
    }
   ],
   "metadata": {}
  },
  {
   "cell_type": "code",
   "execution_count": 15,
   "source": [
    "browser.quit()"
   ],
   "outputs": [],
   "metadata": {}
  }
 ],
 "metadata": {
  "interpreter": {
   "hash": "afae373feb22720441ef4b0afdb2fe79a8e93aec5e400fe4bc616a2eee5ab87c"
  },
  "kernelspec": {
   "name": "python3",
   "display_name": "Python 3.8.5 64-bit ('base': conda)"
  },
  "language_info": {
   "codemirror_mode": {
    "name": "ipython",
    "version": 3
   },
   "file_extension": ".py",
   "mimetype": "text/x-python",
   "name": "python",
   "nbconvert_exporter": "python",
   "pygments_lexer": "ipython3",
   "version": "3.8.5"
  }
 },
 "nbformat": 4,
 "nbformat_minor": 2
}